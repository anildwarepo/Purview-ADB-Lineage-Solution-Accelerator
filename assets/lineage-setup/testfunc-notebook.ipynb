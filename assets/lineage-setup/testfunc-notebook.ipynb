{
  "cells": [
    {
      "cell_type": "code",
      "source": [
        "import http\r\n",
        "import json"
      ],
      "outputs": [
        {
          "output_type": "display_data",
          "data": {
            "application/vnd.livy.statement-meta+json": {
              "spark_pool": null,
              "session_id": null,
              "statement_id": null,
              "state": "cancelled",
              "livy_statement_state": null,
              "queued_time": "2023-01-04T01:27:29.5074462Z",
              "session_start_time": "2023-01-04T01:27:29.537771Z",
              "execution_start_time": null,
              "execution_finish_time": "2023-01-04T01:27:48.3642671Z",
              "spark_jobs": null
            },
            "text/plain": "StatementMeta(, , , Cancelled, )"
          },
          "metadata": {}
        }
      ],
      "execution_count": 1,
      "metadata": {}
    },
    {
      "cell_type": "code",
      "source": [
        "conn = http.client.HTTPSConnection(\"api.postcodes.io\")\r\n",
        "payload = ''\r\n",
        "headers = {\r\n",
        "          'Cookie': '__cfduid=d2e270bea97599e2fbde210bf483fcd491615195032'\r\n",
        "          }\r\n",
        "conn.request(\"GET\", \"/random/postcodes\", payload, headers)"
      ],
      "outputs": [
        {
          "output_type": "display_data",
          "data": {
            "application/vnd.livy.statement-meta+json": {
              "spark_pool": "sparkpoolpe1",
              "session_id": "3",
              "statement_id": 8,
              "state": "finished",
              "livy_statement_state": "available",
              "queued_time": "2022-12-15T21:15:05.8641448Z",
              "session_start_time": null,
              "execution_start_time": "2022-12-15T21:15:05.9764527Z",
              "execution_finish_time": "2022-12-15T21:15:06.1426277Z",
              "spark_jobs": null
            },
            "text/plain": "StatementMeta(sparkpoolpe1, 3, 8, Finished, Available)"
          },
          "metadata": {}
        }
      ],
      "execution_count": 8,
      "metadata": {
        "jupyter": {
          "source_hidden": false,
          "outputs_hidden": false
        },
        "nteract": {
          "transient": {
            "deleting": false
          }
        }
      }
    },
    {
      "cell_type": "code",
      "source": [
        "conn = http.client.HTTPSConnection(\"<lineage function app name>.azurewebsites.net\")\r\n",
        "\r\n",
        "payload = ''\r\n",
        "headers = {}\r\n",
        "conn.request(\"GET\", \"/\", payload, headers)"
      ],
      "outputs": [],
      "execution_count": null,
      "metadata": {
        "jupyter": {
          "source_hidden": false,
          "outputs_hidden": false
        },
        "nteract": {
          "transient": {
            "deleting": false
          }
        }
      }
    },
    {
      "cell_type": "code",
      "source": [
        "res = conn.getresponse()\r\n",
        "data = res.read().decode(\"utf-8\")\r\n",
        "jsondata = json.loads(json.dumps(data))\r\n",
        "df = spark.read.json(sc.parallelize([jsondata]))"
      ],
      "outputs": [
        {
          "output_type": "display_data",
          "data": {
            "application/vnd.livy.statement-meta+json": {
              "spark_pool": "sparkpoolpe1",
              "session_id": "3",
              "statement_id": 9,
              "state": "finished",
              "livy_statement_state": "available",
              "queued_time": "2022-12-15T21:15:08.5802705Z",
              "session_start_time": null,
              "execution_start_time": "2022-12-15T21:15:08.6844514Z",
              "execution_finish_time": "2022-12-15T21:15:19.7951287Z",
              "spark_jobs": null
            },
            "text/plain": "StatementMeta(sparkpoolpe1, 3, 9, Finished, Available)"
          },
          "metadata": {}
        }
      ],
      "execution_count": 9,
      "metadata": {
        "jupyter": {
          "source_hidden": false,
          "outputs_hidden": false
        },
        "nteract": {
          "transient": {
            "deleting": false
          }
        }
      }
    },
    {
      "cell_type": "code",
      "source": [
        "display(df)"
      ],
      "outputs": [
        {
          "output_type": "display_data",
          "data": {
            "application/vnd.livy.statement-meta+json": {
              "spark_pool": "sparkpoolpe1",
              "session_id": "3",
              "statement_id": 10,
              "state": "finished",
              "livy_statement_state": "available",
              "queued_time": "2022-12-15T21:15:32.1191228Z",
              "session_start_time": null,
              "execution_start_time": "2022-12-15T21:15:32.2348719Z",
              "execution_finish_time": "2022-12-15T21:15:35.241237Z",
              "spark_jobs": null
            },
            "text/plain": "StatementMeta(sparkpoolpe1, 3, 10, Finished, Available)"
          },
          "metadata": {}
        },
        {
          "output_type": "display_data",
          "data": {
            "application/vnd.synapse.widget-view+json": {
              "widget_id": "def35263-f19e-46be-a77c-ff7b2b71b693",
              "widget_type": "Synapse.DataFrame"
            },
            "text/plain": "SynapseWidget(Synapse.DataFrame, def35263-f19e-46be-a77c-ff7b2b71b693)"
          },
          "metadata": {}
        }
      ],
      "execution_count": 10,
      "metadata": {
        "jupyter": {
          "source_hidden": false,
          "outputs_hidden": false
        },
        "nteract": {
          "transient": {
            "deleting": false
          }
        },
        "collapsed": false
      }
    }
  ],
  "metadata": {
    "kernelspec": {
      "name": "synapse_pyspark",
      "display_name": "Synapse PySpark"
    },
    "language_info": {
      "name": "python"
    },
    "description": null,
    "save_output": true,
    "synapse_widget": {
      "version": "0.1",
      "state": {
        "def35263-f19e-46be-a77c-ff7b2b71b693": {
          "type": "Synapse.DataFrame",
          "sync_state": {
            "table": {
              "rows": [
                {
                  "0": {
                    "quality": 1,
                    "msoa": "Milton Keynes 022",
                    "latitude": 52.018007,
                    "outcode": "MK7",
                    "parliamentary_constituency": "Milton Keynes South",
                    "postcode": "MK7 7LS",
                    "ccg": "NHS Bedfordshire, Luton and Milton Keynes",
                    "country": "England",
                    "longitude": -0.691672,
                    "codes": {
                      "ced": "E99999999",
                      "msoa": "E02003480",
                      "parliamentary_constituency": "E14000822",
                      "ccg_id": "M1J4Y",
                      "ccg": "E38000249",
                      "admin_county": "E99999999",
                      "lau2": "E06000042",
                      "admin_ward": "E05009415",
                      "nuts": "TLJ12",
                      "admin_district": "E06000042",
                      "lsoa": "E01016825",
                      "parish": "E04001275"
                    },
                    "eastings": 489879,
                    "nhs_ha": "South Central",
                    "region": "South East",
                    "incode": "7LS",
                    "admin_ward": "Monkston",
                    "nuts": "Milton Keynes",
                    "northings": 236317,
                    "admin_district": "Milton Keynes",
                    "lsoa": "Milton Keynes 022C",
                    "primary_care_trust": "Milton Keynes",
                    "parish": "Walton",
                    "european_electoral_region": "South East"
                  },
                  "1": "200"
                }
              ],
              "schema": [
                {
                  "key": "0",
                  "name": "result",
                  "type": "StructType(StructField(admin_county,StringType,true), StructField(admin_district,StringType,true), StructField(admin_ward,StringType,true), StructField(ccg,StringType,true), StructField(ced,StringType,true), StructField(codes,StructType(StructField(admin_county,StringType,true), StructField(admin_district,StringType,true), StructField(admin_ward,StringType,true), StructField(ccg,StringType,true), StructField(ccg_id,StringType,true), StructField(ced,StringType,true), StructField(lau2,StringType,true), StructField(lsoa,StringType,true), StructField(msoa,StringType,true), StructField(nuts,StringType,true), StructField(parish,StringType,true), StructField(parliamentary_constituency,StringType,true)),true), StructField(country,StringType,true), StructField(eastings,LongType,true), StructField(european_electoral_region,StringType,true), StructField(incode,StringType,true), StructField(latitude,DoubleType,true), StructField(longitude,DoubleType,true), StructField(lsoa,StringType,true), StructField(msoa,StringType,true), StructField(nhs_ha,StringType,true), StructField(northings,LongType,true), StructField(nuts,StringType,true), StructField(outcode,StringType,true), StructField(parish,StringType,true), StructField(parliamentary_constituency,StringType,true), StructField(postcode,StringType,true), StructField(primary_care_trust,StringType,true), StructField(quality,LongType,true), StructField(region,StringType,true))"
                },
                {
                  "key": "1",
                  "name": "status",
                  "type": "bigint"
                }
              ],
              "truncated": false
            },
            "isSummary": false,
            "language": "scala"
          },
          "persist_state": {
            "view": {
              "type": "details",
              "tableOptions": {},
              "chartOptions": {
                "chartType": "bar",
                "aggregationType": "sum",
                "categoryFieldKeys": [],
                "seriesFieldKeys": [
                  "1"
                ],
                "isStacked": false
              }
            }
          }
        }
      }
    }
  },
  "nbformat": 4,
  "nbformat_minor": 2
}